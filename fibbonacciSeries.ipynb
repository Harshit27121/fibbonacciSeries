{
 "cells": [
  {
   "cell_type": "code",
   "execution_count": 1,
   "id": "d4b82bd2",
   "metadata": {},
   "outputs": [
    {
     "name": "stdout",
     "output_type": "stream",
     "text": [
      "Number of elements in fibbonacci series,N,N>=2:6\n"
     ]
    }
   ],
   "source": [
    "N=int(input(\"Number of elements in fibbonacci series,N,N>=2:\"))\n"
   ]
  },
  {
   "cell_type": "code",
   "execution_count": 4,
   "id": "ae15b51c",
   "metadata": {},
   "outputs": [],
   "source": [
    "#Initializing the list with starting elements 0,1\n",
    "fibbonacciSeries=[0,1]"
   ]
  },
  {
   "cell_type": "code",
   "execution_count": 5,
   "id": "972e9efe",
   "metadata": {},
   "outputs": [],
   "source": [
    "if N>2:\n",
    "    for i in range(2,N):\n",
    "        #next element in series=sum of previous two numbers\n",
    "        nextElement=fibbonacciSeries[i-1]+fibbonacciSeries[i-2]\n",
    "        #append the element to the series\n",
    "        fibbonacciSeries.append(nextElement)\n",
    "        "
   ]
  },
  {
   "cell_type": "code",
   "execution_count": 6,
   "id": "8ff66b1c",
   "metadata": {},
   "outputs": [
    {
     "name": "stdout",
     "output_type": "stream",
     "text": [
      "[0, 1, 1, 2, 3, 5]\n"
     ]
    }
   ],
   "source": [
    "print(fibbonacciSeries)"
   ]
  },
  {
   "cell_type": "code",
   "execution_count": null,
   "id": "d3ad22d7",
   "metadata": {},
   "outputs": [],
   "source": []
  },
  {
   "cell_type": "code",
   "execution_count": null,
   "id": "dd8bfa94",
   "metadata": {},
   "outputs": [],
   "source": []
  }
 ],
 "metadata": {
  "kernelspec": {
   "display_name": "Python 3 (ipykernel)",
   "language": "python",
   "name": "python3"
  },
  "language_info": {
   "codemirror_mode": {
    "name": "ipython",
    "version": 3
   },
   "file_extension": ".py",
   "mimetype": "text/x-python",
   "name": "python",
   "nbconvert_exporter": "python",
   "pygments_lexer": "ipython3",
   "version": "3.9.7"
  }
 },
 "nbformat": 4,
 "nbformat_minor": 5
}
